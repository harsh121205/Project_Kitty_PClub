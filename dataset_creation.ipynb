{
 "cells": [
  {
   "cell_type": "code",
   "execution_count": null,
   "id": "e53aa945",
   "metadata": {},
   "outputs": [],
   "source": [
    "import os\n",
    "import cv2\n",
    "from yt_dlp import YoutubeDL\n",
    "\n",
    "# ====== CONFIGURATION ======\n",
    "VIDEO_URL = \"video_url\"\n",
    "RAW_DIR = \"raw_videos\"\n",
    "CLIP_DIR = \"clips\"\n",
    "START_TIMES = [5, 10, 15, 20, 25, 30, 35]  # Replace with your timestamps in seconds\n",
    "CLIP_LENGTH_SEC = 5\n",
    "\n",
    "# ====== CREATE DIRECTORIES ======\n",
    "os.makedirs(RAW_DIR, exist_ok=True)\n",
    "os.makedirs(CLIP_DIR, exist_ok=True)\n",
    "\n",
    "# ====== VIDEO DOWNLOADER ======\n",
    "def download_video(url: str, download_dir: str) -> str:\n",
    "    \"\"\"\n",
    "    Downloads a single video from YouTube using yt-dlp and returns the downloaded path.\n",
    "    \"\"\"\n",
    "    output_template = os.path.join(download_dir, \"%(title)s.%(ext)s\")\n",
    "\n",
    "    ydl_opts = {\n",
    "        'format': 'bestvideo+bestaudio/best',\n",
    "        'merge_output_format': 'mp4',\n",
    "        'outtmpl': output_template,\n",
    "        'noplaylist': True,\n",
    "        'continuedl': True,\n",
    "        'quiet': False,\n",
    "        'no_warnings': True,\n",
    "    }\n",
    "\n",
    "    with YoutubeDL(ydl_opts) as ydl:\n",
    "        info = ydl.extract_info(url, download=True)\n",
    "        video_path = ydl.prepare_filename(info).replace(\".webm\", \".mp4\")  # ensure .mp4 extension\n",
    "        print(f\"Downloaded video to: {video_path}\")\n",
    "        return video_path"
   ]
  },
  {
   "cell_type": "code",
   "execution_count": null,
   "id": "8ba9a167",
   "metadata": {},
   "outputs": [],
   "source": [
    "# ====== CLIP EXTRACTOR ======\n",
    "def extract_clips(video_path: str, start_times: list, clip_length_sec: int = 5):\n",
    "    \"\"\"\n",
    "    Extracts fixed-length video clips from a source video based on given start times (in seconds).\n",
    "    \"\"\"\n",
    "    cap = cv2.VideoCapture(video_path)\n",
    "    if not cap.isOpened():\n",
    "        raise IOError(f\"Could not open video: {video_path}\")\n",
    "\n",
    "    fps = cap.get(cv2.CAP_PROP_FPS)\n",
    "    width  = int(cap.get(cv2.CAP_PROP_FRAME_WIDTH))\n",
    "    height = int(cap.get(cv2.CAP_PROP_FRAME_HEIGHT))\n",
    "    fourcc = cv2.VideoWriter_fourcc(*'mp4v')\n",
    "    clip_frames = int(round(clip_length_sec * fps))\n",
    "\n",
    "    for idx, start_sec in enumerate(start_times):\n",
    "        start_frame = int(round(start_sec * fps))\n",
    "        cap.set(cv2.CAP_PROP_POS_FRAMES, start_frame)\n",
    "\n",
    "        clip_name = f\"clip_{(idx + 1):03d}.mp4\"\n",
    "        out_path = os.path.join(CLIP_DIR, clip_name)\n",
    "        out = cv2.VideoWriter(out_path, fourcc, fps, (width, height))\n",
    "\n",
    "        for _ in range(clip_frames):\n",
    "            ret, frame = cap.read()\n",
    "            if not ret:\n",
    "                break\n",
    "            out.write(frame)\n",
    "\n",
    "        out.release()\n",
    "        print(f\"Saved: {out_path}\")\n",
    "\n",
    "    cap.release()\n",
    "\n"
   ]
  },
  {
   "cell_type": "code",
   "execution_count": null,
   "id": "b37dbe9e",
   "metadata": {},
   "outputs": [],
   "source": [
    "# ====== MAIN ======\n",
    "if __name__ == \"__main__\":\n",
    "    video_path = download_video(VIDEO_URL, RAW_DIR)\n",
    "    extract_clips(video_path, START_TIMES, CLIP_LENGTH_SEC)"
   ]
  }
 ],
 "metadata": {
  "kernelspec": {
   "display_name": "Python 3",
   "language": "python",
   "name": "python3"
  },
  "language_info": {
   "codemirror_mode": {
    "name": "ipython",
    "version": 3
   },
   "file_extension": ".py",
   "mimetype": "text/x-python",
   "name": "python",
   "nbconvert_exporter": "python",
   "pygments_lexer": "ipython3",
   "version": "3.11.11"
  }
 },
 "nbformat": 4,
 "nbformat_minor": 5
}
